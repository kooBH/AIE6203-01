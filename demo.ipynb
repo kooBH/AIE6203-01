{
 "cells": [
  {
   "cell_type": "code",
   "execution_count": 1,
   "id": "10c4742b-bbff-40b8-b107-a751f9691b33",
   "metadata": {},
   "outputs": [
    {
     "name": "stderr",
     "output_type": "stream",
     "text": [
      "/home/kbh/.conda/envs/dnn/lib/python3.9/site-packages/tqdm/auto.py:22: TqdmWarning: IProgress not found. Please update jupyter and ipywidgets. See https://ipywidgets.readthedocs.io/en/stable/user_install.html\n",
      "  from .autonotebook import tqdm as notebook_tqdm\n"
     ]
    }
   ],
   "source": [
    "import gymnasium as gym\n",
    "\n",
    "import sys\n",
    "sys.path.append(\"src\")\n",
    "\n",
    "import numpy as np\n",
    "import torch\n",
    "from torch import nn\n",
    "\n",
    "from models.dqn import DQN\n",
    "from env import make_env\n",
    "from ptUtils.hparams import HParam\n",
    "\n",
    "import matplotlib.pyplot as plt\n",
    "import time\n",
    "from IPython.display import clear_output\n",
    "\n",
    "from array2gif import write_gif"
   ]
  },
  {
   "cell_type": "markdown",
   "id": "af747ceb-0772-4309-ab3d-a592c99ce52b",
   "metadata": {},
   "source": [
    "## Config"
   ]
  },
  {
   "cell_type": "code",
   "execution_count": 2,
   "id": "100d9e4a-080c-41ac-b935-fe86e8b479d8",
   "metadata": {},
   "outputs": [
    {
     "name": "stderr",
     "output_type": "stream",
     "text": [
      "A.L.E: Arcade Learning Environment (version 0.8.0+919230b)\n",
      "[Powered by Stella]\n"
     ]
    }
   ],
   "source": [
    "ENV_NAME = \"ALE/KungFuMaster-v5\"\n",
    "version = 17\n",
    "path_chkpt = \"chkpt/v\"+str(version)+\"_best.pt\"\n",
    "device = \"cuda:0\"\n",
    "seed = np.random.randint(100000)\n",
    "\n",
    "env = make_env(ENV_NAME,clip_rewards=False,seed=seed,real=True)\n",
    "env_disp = make_env(ENV_NAME,clip_rewards=False,seed=seed,disp=True,real=True)\n",
    "state_shape = env.observation_space.shape\n",
    "n_actions = env.action_space.n\n"
   ]
  },
  {
   "cell_type": "markdown",
   "id": "a2780009-ec20-418d-9f2e-8715116e9f40",
   "metadata": {
    "tags": []
   },
   "source": [
    "## Model"
   ]
  },
  {
   "cell_type": "code",
   "execution_count": 3,
   "id": "86c185c1-6df6-4a10-b5d2-925c7925726c",
   "metadata": {},
   "outputs": [
    {
     "name": "stdout",
     "output_type": "stream",
     "text": [
      "Network:: dueling False | policy False | value False.\n"
     ]
    },
    {
     "data": {
      "text/plain": [
       "DQN(\n",
       "  (block_1): Sequential(\n",
       "    (0): Conv2d(4, 32, kernel_size=(3, 3), stride=(2, 2))\n",
       "    (1): ReLU()\n",
       "    (2): BatchNorm2d(32, eps=1e-05, momentum=0.1, affine=True, track_running_stats=True)\n",
       "  )\n",
       "  (block_2): Sequential(\n",
       "    (0): Conv2d(32, 64, kernel_size=(3, 3), stride=(2, 2))\n",
       "    (1): ReLU()\n",
       "    (2): BatchNorm2d(64, eps=1e-05, momentum=0.1, affine=True, track_running_stats=True)\n",
       "  )\n",
       "  (block_3): Sequential(\n",
       "    (0): Conv2d(64, 128, kernel_size=(3, 3), stride=(2, 2))\n",
       "    (1): ReLU()\n",
       "    (2): BatchNorm2d(128, eps=1e-05, momentum=0.1, affine=True, track_running_stats=True)\n",
       "  )\n",
       "  (block_4): Sequential(\n",
       "    (0): Conv2d(128, 256, kernel_size=(3, 3), stride=(2, 2))\n",
       "    (1): ReLU()\n",
       "  )\n",
       "  (block_5): Sequential(\n",
       "    (0): Flatten(start_dim=1, end_dim=-1)\n",
       "    (1): Linear(in_features=256, out_features=1024, bias=True)\n",
       "    (2): ReLU()\n",
       "    (3): Linear(in_features=1024, out_features=14, bias=True)\n",
       "  )\n",
       ")"
      ]
     },
     "execution_count": 3,
     "metadata": {},
     "output_type": "execute_result"
    }
   ],
   "source": [
    "hp = HParam(\"config/v{}.yaml\".format(version),\"config/default.yaml\")\n",
    "\n",
    "if hp.train.type == \"DQN\" : \n",
    "    agent = DQN(state_shape=state_shape, n_actions=n_actions,dueling=hp.model.dueling).to(device)\n",
    "elif hp.train.type == \"policy_gradient\" : \n",
    "    agent = DQN(state_shape=state_shape, n_actions=n_actions,policy=True).to(device)\n",
    "else : \n",
    "    print(\"ERROR\")\n",
    "agent.load_state_dict(torch.load(path_chkpt))\n",
    "agent.eval()"
   ]
  },
  {
   "cell_type": "markdown",
   "id": "a24c8b6f-ab47-4401-90d1-367e781953dd",
   "metadata": {},
   "source": [
    "## Eval"
   ]
  },
  {
   "cell_type": "code",
   "execution_count": null,
   "id": "140f3b3e-b3a6-4046-bbb5-ea6962b08e73",
   "metadata": {},
   "outputs": [
    {
     "data": {
      "image/png": "[encoded data removed]",
      "text/plain": [
       "<Figure size 576x576 with 1 Axes>"
      ]
     },
     "metadata": {},
     "output_type": "display_data"
    }
   ],
   "source": [
    "s = env.reset()\n",
    "\n",
    "img = env_disp.reset()[0]\n",
    "plt.ion()\n",
    "fig= plt.figure(figsize=(8, 8))\n",
    "im = plt.imshow(img)\n",
    "\n",
    "done = False \n",
    "step = 0\n",
    "with torch.no_grad() : \n",
    "    while not done : \n",
    "        #print(state.shape)\n",
    "        if hp.train.type == \"DQN\" : \n",
    "            qvalues = agent.get_qvalues(s)\n",
    "            action = qvalues.argmax(axis=-1)[0]\n",
    "        else : \n",
    "            logits = agent.forward([s])\n",
    "            action = agent.best_actions(logits)[0]\n",
    "            \n",
    "        plt.title(action)\n",
    "        s, reward, done, _, _ = env.step(action)\n",
    "        img,_,done_disp,_,_ = env_disp.step(action)\n",
    "        \n",
    "        im.set_data(img)\n",
    "        display(fig)    \n",
    "        step+=1\n",
    "        \n",
    "        clear_output(wait = True)\n",
    "#clear_output(wait = True)\n",
    "print(reward)"
   ]
  },
  {
   "cell_type": "markdown",
   "id": "622e9b40-1bcd-41b5-a11d-e7124d2028df",
   "metadata": {},
   "source": [
    "## Gen output"
   ]
  },
  {
   "cell_type": "code",
   "execution_count": 4,
   "id": "a1b31dc8-0fcb-4501-bd4f-85282326419d",
   "metadata": {},
   "outputs": [
    {
     "name": "stdout",
     "output_type": "stream",
     "text": [
      "56889\n",
      "5600.0\n",
      "2474\n",
      "1400.0\n",
      "43845\n",
      "1800.0\n",
      "99639\n",
      "3200.0\n",
      "44043\n",
      "6900.0\n",
      "44237\n",
      "1500.0\n",
      "36441\n",
      "2100.0\n",
      "56259\n",
      "6800.0\n",
      "20601\n",
      "800.0\n",
      "54537\n",
      "2600.0\n"
     ]
    }
   ],
   "source": [
    "for iii in range(10) : \n",
    "    seed = np.random.randint(100000)\n",
    "    print(seed)\n",
    "    env = make_env(ENV_NAME,clip_rewards=False,seed=seed,real=True)\n",
    "    env_disp = make_env(ENV_NAME,clip_rewards=False,seed=seed,disp=True,real=True)\n",
    "    \n",
    "    s = env.reset()\n",
    "    img = env_disp.reset()[0]\n",
    "    done = False \n",
    "    step = 0\n",
    "    rw = 0\n",
    "    list_img = []\n",
    "    with torch.no_grad() : \n",
    "        while not done : \n",
    "            #print(state.shape)\n",
    "            if hp.train.type == \"DQN\" : \n",
    "                qvalues = agent.get_qvalues(s)\n",
    "                action = qvalues.argmax(axis=-1)[0]\n",
    "            else : \n",
    "                logits = agent.forward([s])\n",
    "                action = agent.best_actions(logits)[0]\n",
    "\n",
    "            s, reward, done, _, _ = env.step(action)\n",
    "            img,_,done_disp,_,_ = env_disp.step(action)\n",
    "            rw += reward\n",
    "\n",
    "            list_img.append(np.transpose(img,(1,0,2)))\n",
    "            step+=1\n",
    "    print(rw)\n",
    "    write_gif(list_img, 'v{}_{}.gif'.format(version,int(rw)), fps=20)"
   ]
  },
  {
   "cell_type": "markdown",
   "id": "501e082a-adb4-40d2-a10b-00911d3873f0",
   "metadata": {},
   "source": [
    "## Random"
   ]
  },
  {
   "cell_type": "code",
   "execution_count": 3,
   "id": "4a836c10-97d0-4d48-8cce-2e91503cbc4c",
   "metadata": {},
   "outputs": [
    {
     "name": "stdout",
     "output_type": "stream",
     "text": [
      "67095\n"
     ]
    },
    {
     "name": "stderr",
     "output_type": "stream",
     "text": [
      "A.L.E: Arcade Learning Environment (version 0.8.0+919230b)\n",
      "[Powered by Stella]\n"
     ]
    },
    {
     "name": "stdout",
     "output_type": "stream",
     "text": [
      "500.0\n",
      "20698\n",
      "300.0\n",
      "30774\n",
      "200.0\n",
      "3528\n",
      "1200.0\n",
      "95865\n",
      "300.0\n",
      "41806\n",
      "600.0\n",
      "60883\n",
      "1100.0\n",
      "21032\n",
      "1200.0\n",
      "58576\n",
      "400.0\n",
      "36970\n",
      "100.0\n"
     ]
    }
   ],
   "source": [
    "ENV_NAME = \"ALE/KungFuMaster-v5\"\n",
    "for iii in range(10) : \n",
    "    seed = np.random.randint(100000)\n",
    "    print(seed)\n",
    "    env_disp = make_env(ENV_NAME,clip_rewards=False,seed=seed,disp=True,real=True)\n",
    "    \n",
    "    img = env_disp.reset()[0]\n",
    "    done = False \n",
    "    step = 0\n",
    "    rw = 0\n",
    "    list_img = []\n",
    "    with torch.no_grad() : \n",
    "        while not done : \n",
    "            #print(state.shape)\n",
    "           \n",
    "            action = np.random.randint(14)\n",
    "\n",
    "            img,reward,done,_,_ = env_disp.step(action)\n",
    "            rw += reward\n",
    "\n",
    "            list_img.append(np.transpose(img,(1,0,2)))\n",
    "            step+=1\n",
    "    print(rw)\n",
    "    write_gif(list_img, 'random_{}.gif'.format(int(rw)), fps=20)"
   ]
  },
  {
   "cell_type": "code",
   "execution_count": null,
   "id": "c0f4f65a-b28d-44c9-b5a8-ae699736d4be",
   "metadata": {},
   "outputs": [],
   "source": []
  }
 ],
 "metadata": {
  "kernelspec": {
   "display_name": "Python 3 (ipykernel)",
   "language": "python",
   "name": "python3"
  },
  "language_info": {
   "codemirror_mode": {
    "name": "ipython",
    "version": 3
   },
   "file_extension": ".py",
   "mimetype": "text/x-python",
   "name": "python",
   "nbconvert_exporter": "python",
   "pygments_lexer": "ipython3",
   "version": "3.9.12"
  }
 },
 "nbformat": 4,
 "nbformat_minor": 5
}
